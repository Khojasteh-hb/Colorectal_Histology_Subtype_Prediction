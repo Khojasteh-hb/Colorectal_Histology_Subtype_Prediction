{
 "cells": [
  {
   "cell_type": "code",
   "execution_count": 1,
   "metadata": {
    "colab": {
     "base_uri": "https://localhost:8080/"
    },
    "id": "W3_c-e11gMLV",
    "outputId": "8340f152-4856-4e6e-f9f5-ccaac0f5bdb5"
   },
   "outputs": [
    {
     "name": "stdout",
     "output_type": "stream",
     "text": [
      "Mounted at /content/drive\n"
     ]
    }
   ],
   "source": [
    "# First attach your google drive to the colab\n",
    "from google.colab import drive\n",
    "drive.mount('/content/drive', force_remount=True)"
   ]
  },
  {
   "cell_type": "code",
   "execution_count": 2,
   "metadata": {
    "colab": {
     "base_uri": "https://localhost:8080/"
    },
    "id": "YTCFz-IjgZvZ",
    "outputId": "0cbf2a10-a08b-45b1-de40-6640a9c06bcf"
   },
   "outputs": [
    {
     "name": "stdout",
     "output_type": "stream",
     "text": [
      "GPU 0: Tesla T4 (UUID: GPU-7d590e37-c375-0f4a-5c13-64c3536b8020)\n",
      "Mon Mar  6 12:46:15 2023       \n",
      "+-----------------------------------------------------------------------------+\n",
      "| NVIDIA-SMI 525.85.12    Driver Version: 525.85.12    CUDA Version: 12.0     |\n",
      "|-------------------------------+----------------------+----------------------+\n",
      "| GPU  Name        Persistence-M| Bus-Id        Disp.A | Volatile Uncorr. ECC |\n",
      "| Fan  Temp  Perf  Pwr:Usage/Cap|         Memory-Usage | GPU-Util  Compute M. |\n",
      "|                               |                      |               MIG M. |\n",
      "|===============================+======================+======================|\n",
      "|   0  Tesla T4            Off  | 00000000:00:04.0 Off |                    0 |\n",
      "| N/A   56C    P0    28W /  70W |      0MiB / 15360MiB |      0%      Default |\n",
      "|                               |                      |                  N/A |\n",
      "+-------------------------------+----------------------+----------------------+\n",
      "                                                                               \n",
      "+-----------------------------------------------------------------------------+\n",
      "| Processes:                                                                  |\n",
      "|  GPU   GI   CI        PID   Type   Process name                  GPU Memory |\n",
      "|        ID   ID                                                   Usage      |\n",
      "|=============================================================================|\n",
      "|  No running processes found                                                 |\n",
      "+-----------------------------------------------------------------------------+\n"
     ]
    }
   ],
   "source": [
    "#GPU type & space\n",
    "!nvidia-smi -L\n",
    "!nvidia-smi"
   ]
  },
  {
   "cell_type": "code",
   "execution_count": 3,
   "metadata": {
    "colab": {
     "base_uri": "https://localhost:8080/"
    },
    "id": "RqfBF-EvgcHK",
    "outputId": "6ccbc1ae-2549-4bad-c504-1dec001a4fc0"
   },
   "outputs": [
    {
     "name": "stdout",
     "output_type": "stream",
     "text": [
      "The Current working directory is : /content/drive/MyDrive/sample\n"
     ]
    }
   ],
   "source": [
    "import os\n",
    "os.chdir('/content/drive/MyDrive/sample')\n",
    "root = os.getcwd()\n",
    "print(\"The Current working directory is :\", root)"
   ]
  },
  {
   "cell_type": "code",
   "execution_count": 4,
   "metadata": {
    "id": "p44afHyBggdn"
   },
   "outputs": [],
   "source": [
    "# Import required libraries\n",
    "import os\n",
    "import numpy as np\n",
    "import pandas as pd\n",
    "import random\n",
    "from PIL import Image\n",
    "import torch.utils.data as data\n",
    "from torchvision.models.resnet import resnet34\n",
    "import torchvision.transforms as transforms\n",
    "import torch\n",
    "import torch\n",
    "import torch.nn as nn\n",
    "import torch.optim as optim\n",
    "\n",
    "from torch.optim.lr_scheduler import *\n",
    "import torchvision.transforms as transforms\n",
    "\n",
    "from torchvision import transforms, datasets\n",
    "from torch.utils.data import  SubsetRandomSampler\n",
    "from torch.utils.data import DataLoader\n",
    "from sklearn.model_selection import KFold\n",
    "\n",
    "import torch.nn.functional as F"
   ]
  },
  {
   "cell_type": "code",
   "execution_count": 5,
   "metadata": {
    "colab": {
     "base_uri": "https://localhost:8080/"
    },
    "id": "UPELOvh2C0tR",
    "outputId": "1e802125-1faa-4531-e21a-5dfc0b709646"
   },
   "outputs": [
    {
     "name": "stderr",
     "output_type": "stream",
     "text": [
      "/usr/local/lib/python3.8/dist-packages/torch/utils/data/dataloader.py:554: UserWarning: This DataLoader will create 4 worker processes in total. Our suggested max number of worker in current system is 2, which is smaller than what this DataLoader is going to create. Please be aware that excessive worker creation might get DataLoader running slow or even freeze, lower the worker number to avoid potential slowness/freeze if necessary.\n",
      "  warnings.warn(_create_warning_msg(\n"
     ]
    }
   ],
   "source": [
    "PIL_transform=transforms.RandomApply([transforms.RandomHorizontalFlip(p=1),transforms.RandomVerticalFlip(p=1),\n",
    "                                      transforms.RandomRotation(45)],p=0.5)\n",
    "\n",
    "transform_train = transforms.Compose([\n",
    "    transforms.Resize((256, 256)),  # 256x256\n",
    "    PIL_transform,\n",
    "    transforms.RandomCrop((225, 225)),  # 224x224\n",
    "    #transforms.RandomHorizontalFlip(),  # \n",
    "    transforms.ToTensor(),\n",
    "    transforms.Normalize((0.485, 0.456, 0.406), (0.229, 0.224, 0.2225))  # ImageNet\n",
    "])\n",
    " \n",
    "# \n",
    "transform_val = transforms.Compose([\n",
    "    transforms.Resize((224, 224)),\n",
    "    transforms.ToTensor(),\n",
    "    transforms.Normalize((0.485, 0.456, 0.406), (0.229, 0.224, 0.225)),\n",
    "])\n",
    " \n",
    "\n",
    "cell_dataset = datasets.ImageFolder(root='/content/drive/MyDrive/sample',transform=transform_train)\n",
    "\n",
    "#define dataloader\n",
    "dataset_loader = DataLoader(cell_dataset,batch_size=16, shuffle=True,num_workers=4)\n",
    "\n",
    "split1 = int(0.2 * len(cell_dataset))\n",
    "split2 = int(0.8 * len(cell_dataset))\n",
    "index_list = list(range(len(cell_dataset)))\n",
    "np.random.shuffle(index_list) \n",
    "test_idx = index_list[:split1]+index_list[split2:]\n",
    "train_idx=index_list[split1:split2]\n",
    "\n",
    "## create training and validation sampler objects\n",
    "tr_sampler = SubsetRandomSampler(train_idx)\n",
    "val_sampler = SubsetRandomSampler(test_idx)\n",
    "#trainset=cell_dataset[split1:split2]\n",
    "\n",
    "## create iterator objects for train and valid datasets\n",
    "trainloader = DataLoader(cell_dataset, batch_size=16,sampler=tr_sampler,num_workers=4)\n",
    "validloader = DataLoader(cell_dataset, batch_size=16,sampler=val_sampler,num_workers=4)"
   ]
  },
  {
   "cell_type": "code",
   "execution_count": 6,
   "metadata": {
    "colab": {
     "base_uri": "https://localhost:8080/"
    },
    "id": "qgg5eckYgzhG",
    "outputId": "1e019f22-9843-42bc-c10e-f435b190c795"
   },
   "outputs": [
    {
     "data": {
      "text/plain": [
       "2961"
      ]
     },
     "execution_count": 6,
     "metadata": {},
     "output_type": "execute_result"
    }
   ],
   "source": [
    "len(cell_dataset)"
   ]
  },
  {
   "cell_type": "code",
   "execution_count": 7,
   "metadata": {
    "id": "9uRjOHjS7juA"
   },
   "outputs": [],
   "source": [
    "def get_acc(output, label):\n",
    "    total = output.shape[0]\n",
    "    _, pred_label = output.max(1)\n",
    "    num_correct = (pred_label == label).sum().item()\n",
    "    return num_correct / total\n",
    "\n",
    "def train_epoch(model,device,dataloader,loss_fn,optimizer):\n",
    "    train_loss,train_correct=0.0,0\n",
    "    model.train()\n",
    "    for images, labels in dataloader:\n",
    "\n",
    "        images,labels = images.to(device),labels.to(device)\n",
    "        optimizer.zero_grad()\n",
    "        output = model(images)\n",
    "        loss = loss_fn(output,labels)\n",
    "        loss.backward()\n",
    "        optimizer.step()\n",
    "        train_loss += loss.item() * images.size(0)\n",
    "        scores, predictions = torch.max(output.data, 1)\n",
    "        train_correct += (predictions == labels).sum().item()\n",
    "\n",
    "        train_acc = get_acc(output, labels)\n",
    "        print(\"loss:%f acc:%f\" % (loss.mean(), train_acc))   \n",
    "\n",
    "    return train_loss,train_correct\n",
    "  \n",
    "def valid_epoch_2(model,device,dataloader,loss_fn):\n",
    "    valid_loss, val_correct = 0.0, 0\n",
    "    model.eval()\n",
    "    y_val=[]\n",
    "    y_pred=[]\n",
    "    for images, labels in dataloader:\n",
    "\n",
    "        images,labels = images.to(device),labels.to(device)\n",
    "\n",
    "        y_val.append(F.one_hot(labels, num_classes=4))\n",
    "        \n",
    "        output = model(images)\n",
    "        loss=loss_fn(output,labels)\n",
    "        valid_loss+=loss.item()*images.size(0)\n",
    "        scores, predictions = torch.max(output.data,1)\n",
    "\n",
    "        y_pred.append(F.one_hot(predictions, num_classes=4))\n",
    "\n",
    "        val_correct+=(predictions == labels).sum().item()\n",
    "\n",
    "    return valid_loss,val_correct,y_val,y_pred\n",
    "\n",
    "class Net(nn.Module):\n",
    "    def __init__(self, model):\n",
    "        super(Net, self).__init__()\n",
    "        self.conv1 = nn.Conv2d(3, 64, kernel_size=5, stride=2, padding=2,bias=False)\n",
    "        self.resnet_layer = nn.Sequential(*list(model.children())[1:-1])\n",
    "        self.Linear_layer = nn.Linear(512, 8) \n",
    " \n",
    "    def forward(self, x):\n",
    "        x = self.conv1(x)\n",
    "        x = self.resnet_layer(x)\n",
    "        x = x.view(x.size(0), -1)\n",
    "        x = self.Linear_layer(x)\n",
    "        return x    "
   ]
  },
  {
   "cell_type": "code",
   "execution_count": 8,
   "metadata": {
    "colab": {
     "base_uri": "https://localhost:8080/"
    },
    "id": "VBiRH_uHg6Mn",
    "outputId": "630f7ebc-79d3-4f6e-e3d6-6e26fcbab4eb"
   },
   "outputs": [
    {
     "name": "stdout",
     "output_type": "stream",
     "text": [
      "cuda:0\n"
     ]
    }
   ],
   "source": [
    "device = torch.device(\"cuda:0\" if torch.cuda.is_available() else \"cpu\")\n",
    "print(device)"
   ]
  },
  {
   "cell_type": "code",
   "execution_count": 9,
   "metadata": {
    "colab": {
     "base_uri": "https://localhost:8080/",
     "height": 1000,
     "referenced_widgets": [
      "c20c2cb479644578bab659bbc66ef3f6",
      "5840f2d54bd142bc88ed9d041b833b6c",
      "31e87c4e2c5c4304938fc9f05f9e7c2d",
      "a2e4af528fc84689934df79b69c1c76b",
      "3b8cec6c36ea4905b6d83f1970dc2b44",
      "99857afc6f5f4f93ac86c5b4dfed135a",
      "414836bd4203474588b8bc2305524de8",
      "f0cfeda5a5c04e1dba59f864152741f0",
      "c24045159769479aa008557cd69319f3",
      "60a3c4bc220e42f4a2fe5dd170b146de",
      "9ac6912370be40c796f7df840973c366"
     ]
    },
    "id": "zvYN4aLM0vVs",
    "outputId": "95ce30ca-5e16-4864-91e8-33de8816366c"
   },
   "outputs": [
    {
     "name": "stderr",
     "output_type": "stream",
     "text": [
      "/usr/local/lib/python3.8/dist-packages/torchvision/models/_utils.py:208: UserWarning: The parameter 'pretrained' is deprecated since 0.13 and may be removed in the future, please use 'weights' instead.\n",
      "  warnings.warn(\n",
      "/usr/local/lib/python3.8/dist-packages/torchvision/models/_utils.py:223: UserWarning: Arguments other than a weight enum or `None` for 'weights' are deprecated since 0.13 and may be removed in the future. The current behavior is equivalent to passing `weights=ResNet34_Weights.IMAGENET1K_V1`. You can also use `weights=ResNet34_Weights.DEFAULT` to get the most up-to-date weights.\n",
      "  warnings.warn(msg)\n",
      "Downloading: \"https://download.pytorch.org/models/resnet34-b627a593.pth\" to /root/.cache/torch/hub/checkpoints/resnet34-b627a593.pth\n"
     ]
    },
    {
     "data": {
      "application/vnd.jupyter.widget-view+json": {
       "model_id": "c20c2cb479644578bab659bbc66ef3f6",
       "version_major": 2,
       "version_minor": 0
      },
      "text/plain": [
       "  0%|          | 0.00/83.3M [00:00<?, ?B/s]"
      ]
     },
     "metadata": {},
     "output_type": "display_data"
    },
    {
     "name": "stdout",
     "output_type": "stream",
     "text": [
      "--------------------------------\n",
      "FOLD 1\n",
      "--------------------------------\n",
      "Starting epoch 1\n",
      "loss:2.479455 acc:0.250000\n",
      "loss:2.216729 acc:0.187500\n",
      "loss:1.871572 acc:0.250000\n",
      "loss:1.850752 acc:0.187500\n",
      "loss:1.921334 acc:0.125000\n",
      "loss:1.750744 acc:0.312500\n",
      "loss:1.519161 acc:0.437500\n",
      "loss:1.496542 acc:0.437500\n",
      "loss:1.558100 acc:0.437500\n",
      "loss:1.594742 acc:0.437500\n",
      "loss:1.465745 acc:0.437500\n",
      "loss:1.210662 acc:0.562500\n",
      "loss:1.486891 acc:0.500000\n",
      "loss:1.093872 acc:0.625000\n",
      "loss:0.854638 acc:0.812500\n",
      "loss:1.024534 acc:0.562500\n",
      "loss:0.907783 acc:0.687500\n",
      "loss:1.210218 acc:0.625000\n",
      "loss:0.968805 acc:0.687500\n",
      "loss:0.993959 acc:0.812500\n",
      "loss:0.638864 acc:0.687500\n",
      "loss:0.903354 acc:0.625000\n",
      "loss:1.594026 acc:0.500000\n",
      "loss:0.914008 acc:0.687500\n",
      "loss:0.731737 acc:0.812500\n",
      "loss:1.025416 acc:0.562500\n",
      "loss:0.770066 acc:0.875000\n",
      "loss:0.619284 acc:0.875000\n",
      "loss:0.715021 acc:0.625000\n",
      "loss:1.007445 acc:0.500000\n",
      "loss:1.003445 acc:0.562500\n",
      "loss:0.732796 acc:0.812500\n",
      "loss:0.587835 acc:0.750000\n",
      "loss:1.002314 acc:0.687500\n",
      "loss:0.919556 acc:0.562500\n",
      "loss:0.927021 acc:0.750000\n",
      "loss:0.768720 acc:0.687500\n",
      "loss:0.557275 acc:0.750000\n",
      "loss:0.666045 acc:0.750000\n",
      "loss:0.726446 acc:0.750000\n",
      "loss:0.559963 acc:0.812500\n",
      "loss:0.283087 acc:0.937500\n",
      "loss:0.213085 acc:1.000000\n",
      "loss:0.398388 acc:0.875000\n",
      "loss:1.265797 acc:0.500000\n",
      "loss:0.633815 acc:0.750000\n",
      "loss:0.654776 acc:0.750000\n",
      "loss:0.394071 acc:0.875000\n",
      "loss:1.208358 acc:0.500000\n",
      "loss:1.199824 acc:0.562500\n",
      "loss:0.442239 acc:0.812500\n",
      "loss:0.596172 acc:0.875000\n",
      "loss:0.523026 acc:0.812500\n",
      "loss:0.437408 acc:0.875000\n",
      "loss:0.604817 acc:0.687500\n",
      "loss:0.561417 acc:0.687500\n",
      "loss:0.326095 acc:0.875000\n",
      "loss:0.617179 acc:0.812500\n",
      "loss:0.574591 acc:0.750000\n",
      "loss:0.967496 acc:0.687500\n",
      "loss:0.360791 acc:0.875000\n",
      "loss:0.573425 acc:0.750000\n",
      "loss:0.760335 acc:0.625000\n",
      "loss:0.446148 acc:0.750000\n",
      "loss:0.726426 acc:0.687500\n",
      "loss:0.555714 acc:0.687500\n",
      "loss:0.284154 acc:0.937500\n",
      "loss:0.557232 acc:0.812500\n",
      "loss:0.507322 acc:0.812500\n",
      "loss:0.912914 acc:0.625000\n",
      "loss:0.627179 acc:0.687500\n",
      "loss:0.516082 acc:0.812500\n",
      "loss:0.562161 acc:0.750000\n",
      "loss:0.885704 acc:0.750000\n",
      "loss:0.469442 acc:0.812500\n",
      "loss:0.278687 acc:0.875000\n",
      "loss:0.352082 acc:0.875000\n",
      "loss:0.253934 acc:0.937500\n",
      "loss:0.280097 acc:0.875000\n",
      "loss:1.151327 acc:0.562500\n",
      "loss:0.274712 acc:0.937500\n",
      "loss:0.730839 acc:0.687500\n",
      "loss:0.347414 acc:0.750000\n",
      "loss:0.678442 acc:0.687500\n",
      "loss:0.601577 acc:0.875000\n",
      "loss:0.313496 acc:0.875000\n",
      "loss:0.403279 acc:0.937500\n",
      "loss:0.545001 acc:0.812500\n",
      "loss:1.110754 acc:0.687500\n",
      "loss:0.601484 acc:0.750000\n",
      "loss:0.692888 acc:0.750000\n",
      "loss:0.467061 acc:0.812500\n",
      "loss:0.647247 acc:0.750000\n",
      "loss:0.571478 acc:0.875000\n",
      "loss:1.337576 acc:0.500000\n",
      "loss:0.640758 acc:0.750000\n",
      "loss:0.302648 acc:0.937500\n",
      "loss:0.586986 acc:0.812500\n",
      "loss:0.513038 acc:0.750000\n",
      "loss:1.058238 acc:0.562500\n",
      "loss:0.598660 acc:0.812500\n",
      "loss:0.441958 acc:0.875000\n",
      "loss:0.720615 acc:0.750000\n",
      "loss:0.498811 acc:0.812500\n",
      "loss:0.687044 acc:0.687500\n",
      "loss:0.525251 acc:0.875000\n",
      "loss:0.309446 acc:0.937500\n",
      "loss:0.290565 acc:0.875000\n",
      "loss:0.456385 acc:0.875000\n",
      "loss:0.316439 acc:0.875000\n",
      "loss:0.267356 acc:0.875000\n",
      "loss:0.332296 acc:0.875000\n",
      "loss:0.729727 acc:0.625000\n",
      "loss:0.297329 acc:0.875000\n",
      "loss:0.425940 acc:0.875000\n",
      "loss:0.443789 acc:0.875000\n",
      "loss:0.275941 acc:0.875000\n",
      "loss:0.473790 acc:0.812500\n",
      "loss:0.321210 acc:0.937500\n",
      "loss:0.215180 acc:0.937500\n",
      "loss:0.346651 acc:0.812500\n",
      "loss:0.169547 acc:0.937500\n",
      "loss:0.600093 acc:0.625000\n",
      "loss:2.205704 acc:0.333333\n",
      "Epoch:1/1 AVG Training Loss:0.752 AVG Test Loss:0.238 AVG Training Acc 72.19 % AVG Test Acc 89.97 %\n",
      "FOLD 2\n",
      "--------------------------------\n",
      "Starting epoch 1\n",
      "loss:0.365005 acc:0.875000\n",
      "loss:0.246729 acc:0.937500\n",
      "loss:0.131930 acc:1.000000\n",
      "loss:0.355257 acc:0.875000\n",
      "loss:1.171058 acc:0.875000\n",
      "loss:0.440397 acc:0.875000\n",
      "loss:0.478847 acc:0.812500\n",
      "loss:0.553144 acc:0.812500\n",
      "loss:1.336923 acc:0.687500\n",
      "loss:0.356490 acc:0.937500\n",
      "loss:0.222656 acc:0.937500\n",
      "loss:0.526490 acc:0.812500\n",
      "loss:0.404316 acc:0.812500\n",
      "loss:0.647757 acc:0.750000\n",
      "loss:0.380581 acc:0.875000\n",
      "loss:0.708987 acc:0.750000\n",
      "loss:0.291877 acc:0.875000\n",
      "loss:0.192855 acc:0.937500\n",
      "loss:0.979746 acc:0.687500\n",
      "loss:0.593050 acc:0.875000\n",
      "loss:0.856572 acc:0.687500\n",
      "loss:0.340922 acc:0.875000\n",
      "loss:0.473576 acc:0.812500\n",
      "loss:0.473961 acc:0.875000\n",
      "loss:0.471953 acc:0.750000\n",
      "loss:0.468544 acc:0.812500\n",
      "loss:0.411843 acc:0.750000\n",
      "loss:0.611893 acc:0.812500\n",
      "loss:0.167252 acc:0.937500\n",
      "loss:0.578053 acc:0.750000\n",
      "loss:0.192445 acc:1.000000\n",
      "loss:0.758013 acc:0.687500\n",
      "loss:0.682036 acc:0.750000\n",
      "loss:0.181852 acc:0.937500\n",
      "loss:0.479742 acc:0.687500\n",
      "loss:0.394286 acc:0.875000\n",
      "loss:0.091471 acc:1.000000\n",
      "loss:0.362011 acc:0.812500\n",
      "loss:0.426884 acc:0.750000\n",
      "loss:0.578938 acc:0.812500\n",
      "loss:0.431028 acc:0.812500\n",
      "loss:0.491552 acc:0.812500\n",
      "loss:0.477698 acc:0.812500\n",
      "loss:0.604234 acc:0.812500\n",
      "loss:0.608644 acc:0.750000\n",
      "loss:0.758544 acc:0.687500\n",
      "loss:0.391596 acc:0.875000\n",
      "loss:0.226335 acc:0.937500\n",
      "loss:0.507181 acc:0.812500\n",
      "loss:0.275896 acc:0.875000\n",
      "loss:0.368039 acc:0.812500\n",
      "loss:0.391722 acc:0.875000\n",
      "loss:0.353328 acc:0.875000\n",
      "loss:0.248022 acc:0.875000\n",
      "loss:0.520539 acc:0.937500\n",
      "loss:0.320617 acc:0.937500\n",
      "loss:0.333441 acc:0.937500\n",
      "loss:0.357136 acc:0.812500\n",
      "loss:0.755892 acc:0.750000\n",
      "loss:0.188985 acc:0.937500\n",
      "loss:0.139775 acc:1.000000\n",
      "loss:0.295343 acc:0.812500\n",
      "loss:0.754628 acc:0.687500\n",
      "loss:0.103590 acc:1.000000\n",
      "loss:0.214241 acc:0.875000\n",
      "loss:0.261193 acc:0.875000\n",
      "loss:0.601597 acc:0.812500\n",
      "loss:0.391625 acc:0.812500\n",
      "loss:0.467932 acc:0.937500\n",
      "loss:0.295068 acc:0.812500\n",
      "loss:0.717286 acc:0.625000\n",
      "loss:0.245906 acc:0.937500\n",
      "loss:0.354478 acc:0.875000\n",
      "loss:0.356904 acc:0.937500\n",
      "loss:0.201315 acc:0.937500\n",
      "loss:0.910799 acc:0.812500\n",
      "loss:0.519452 acc:0.812500\n",
      "loss:0.320568 acc:0.875000\n",
      "loss:0.286660 acc:0.875000\n",
      "loss:0.282593 acc:0.875000\n",
      "loss:0.292949 acc:0.875000\n",
      "loss:0.140307 acc:1.000000\n",
      "loss:0.341765 acc:0.875000\n",
      "loss:0.190394 acc:0.937500\n",
      "loss:0.377010 acc:0.812500\n",
      "loss:0.307121 acc:0.875000\n",
      "loss:0.498255 acc:0.812500\n",
      "loss:0.488519 acc:0.812500\n",
      "loss:0.372605 acc:0.875000\n",
      "loss:0.274229 acc:0.875000\n",
      "loss:0.109446 acc:1.000000\n",
      "loss:0.201529 acc:0.937500\n",
      "loss:0.684790 acc:0.750000\n",
      "loss:0.702772 acc:0.750000\n",
      "loss:0.248238 acc:0.937500\n",
      "loss:0.454090 acc:0.875000\n",
      "loss:0.165897 acc:0.937500\n",
      "loss:0.103137 acc:1.000000\n",
      "loss:0.622876 acc:0.687500\n",
      "loss:0.414387 acc:0.875000\n",
      "loss:0.274403 acc:0.875000\n",
      "loss:0.155629 acc:0.937500\n",
      "loss:0.300667 acc:0.875000\n",
      "loss:0.631462 acc:0.750000\n",
      "loss:0.491306 acc:0.812500\n",
      "loss:0.276412 acc:0.937500\n",
      "loss:0.476712 acc:0.812500\n",
      "loss:0.159507 acc:0.937500\n",
      "loss:0.443986 acc:0.750000\n",
      "loss:0.292268 acc:0.875000\n",
      "loss:0.268193 acc:0.875000\n",
      "loss:0.816040 acc:0.625000\n",
      "loss:0.537606 acc:0.812500\n",
      "loss:0.251313 acc:0.875000\n",
      "loss:0.216511 acc:0.875000\n",
      "loss:0.879977 acc:0.625000\n",
      "loss:0.165596 acc:0.937500\n",
      "loss:0.177838 acc:0.937500\n",
      "loss:0.169240 acc:0.937500\n",
      "loss:0.655451 acc:0.812500\n",
      "loss:0.302997 acc:0.875000\n",
      "loss:0.296359 acc:0.875000\n",
      "loss:0.385826 acc:0.875000\n",
      "loss:0.476903 acc:0.666667\n",
      "Epoch:1/1 AVG Training Loss:0.418 AVG Test Loss:0.203 AVG Training Acc 84.90 % AVG Test Acc 94.12 %\n",
      "FOLD 3\n",
      "--------------------------------\n",
      "Starting epoch 1\n",
      "loss:0.236517 acc:0.937500\n",
      "loss:0.091757 acc:1.000000\n",
      "loss:0.431174 acc:0.812500\n",
      "loss:0.487070 acc:0.875000\n",
      "loss:0.565698 acc:0.750000\n",
      "loss:0.639916 acc:0.750000\n",
      "loss:0.471234 acc:0.875000\n",
      "loss:0.280991 acc:0.812500\n",
      "loss:0.331567 acc:0.750000\n",
      "loss:0.210387 acc:0.937500\n",
      "loss:0.266889 acc:0.937500\n",
      "loss:0.244636 acc:0.937500\n",
      "loss:0.118606 acc:1.000000\n",
      "loss:0.809148 acc:0.687500\n",
      "loss:0.122702 acc:0.937500\n",
      "loss:0.473490 acc:0.875000\n",
      "loss:0.215632 acc:0.937500\n",
      "loss:1.031114 acc:0.687500\n",
      "loss:0.243137 acc:0.937500\n",
      "loss:0.332599 acc:0.875000\n",
      "loss:0.793538 acc:0.812500\n",
      "loss:0.818338 acc:0.625000\n",
      "loss:0.369973 acc:0.812500\n",
      "loss:0.394592 acc:0.812500\n",
      "loss:0.140477 acc:1.000000\n",
      "loss:0.425408 acc:0.812500\n",
      "loss:0.067862 acc:1.000000\n",
      "loss:0.174799 acc:0.937500\n",
      "loss:0.165534 acc:0.937500\n",
      "loss:0.221693 acc:0.937500\n",
      "loss:0.167529 acc:0.937500\n",
      "loss:0.220107 acc:0.875000\n",
      "loss:0.265848 acc:0.875000\n",
      "loss:0.399224 acc:0.875000\n",
      "loss:0.489012 acc:0.812500\n",
      "loss:0.496529 acc:0.750000\n",
      "loss:0.347654 acc:0.937500\n",
      "loss:0.199773 acc:0.875000\n",
      "loss:0.103681 acc:1.000000\n",
      "loss:0.588284 acc:0.812500\n",
      "loss:0.202743 acc:0.875000\n",
      "loss:0.192628 acc:0.875000\n",
      "loss:0.224295 acc:0.875000\n",
      "loss:0.319623 acc:0.875000\n",
      "loss:0.100188 acc:1.000000\n",
      "loss:0.083835 acc:1.000000\n",
      "loss:0.179462 acc:0.937500\n",
      "loss:0.562181 acc:0.750000\n",
      "loss:0.380346 acc:0.812500\n",
      "loss:0.136073 acc:0.875000\n",
      "loss:0.170654 acc:0.937500\n",
      "loss:0.438089 acc:0.812500\n",
      "loss:0.093600 acc:1.000000\n",
      "loss:0.485487 acc:0.812500\n",
      "loss:0.327088 acc:0.875000\n",
      "loss:0.360735 acc:0.875000\n",
      "loss:0.287602 acc:0.812500\n",
      "loss:0.460287 acc:0.875000\n",
      "loss:0.322073 acc:0.812500\n",
      "loss:0.050048 acc:1.000000\n",
      "loss:0.124009 acc:1.000000\n",
      "loss:1.119360 acc:0.625000\n",
      "loss:0.036206 acc:1.000000\n",
      "loss:0.222242 acc:0.937500\n",
      "loss:0.297229 acc:0.875000\n",
      "loss:0.155297 acc:1.000000\n",
      "loss:0.428171 acc:0.875000\n",
      "loss:0.113877 acc:1.000000\n",
      "loss:0.196986 acc:0.875000\n",
      "loss:0.130995 acc:0.937500\n",
      "loss:0.212101 acc:0.875000\n",
      "loss:0.322909 acc:0.875000\n",
      "loss:0.120259 acc:1.000000\n",
      "loss:0.045030 acc:1.000000\n",
      "loss:0.058644 acc:1.000000\n",
      "loss:0.169571 acc:0.937500\n",
      "loss:0.353092 acc:0.750000\n",
      "loss:0.241727 acc:0.875000\n",
      "loss:0.636148 acc:0.687500\n",
      "loss:0.048970 acc:1.000000\n",
      "loss:0.215302 acc:0.937500\n",
      "loss:0.265867 acc:0.875000\n",
      "loss:0.095854 acc:1.000000\n",
      "loss:0.206701 acc:0.937500\n",
      "loss:0.597119 acc:0.812500\n",
      "loss:0.334293 acc:0.937500\n",
      "loss:0.410038 acc:0.875000\n",
      "loss:0.085564 acc:1.000000\n",
      "loss:0.592252 acc:0.937500\n",
      "loss:0.086709 acc:1.000000\n",
      "loss:0.153680 acc:0.937500\n",
      "loss:0.286971 acc:0.937500\n",
      "loss:0.286682 acc:0.875000\n",
      "loss:0.445520 acc:0.875000\n",
      "loss:0.282061 acc:0.875000\n",
      "loss:0.103325 acc:1.000000\n",
      "loss:0.100037 acc:1.000000\n",
      "loss:0.115531 acc:1.000000\n",
      "loss:0.287260 acc:0.875000\n",
      "loss:0.153867 acc:0.937500\n",
      "loss:0.444296 acc:0.812500\n",
      "loss:0.093952 acc:1.000000\n",
      "loss:0.279548 acc:0.875000\n",
      "loss:0.096782 acc:1.000000\n",
      "loss:0.062598 acc:1.000000\n",
      "loss:0.126858 acc:0.937500\n",
      "loss:0.281600 acc:0.875000\n",
      "loss:0.161302 acc:0.937500\n",
      "loss:0.327588 acc:0.875000\n",
      "loss:0.426622 acc:0.812500\n",
      "loss:0.707780 acc:0.687500\n",
      "loss:0.726782 acc:0.687500\n",
      "loss:0.184020 acc:0.875000\n",
      "loss:0.246246 acc:1.000000\n",
      "loss:0.363660 acc:0.875000\n",
      "loss:0.233442 acc:0.937500\n",
      "loss:0.236972 acc:0.875000\n",
      "loss:0.099054 acc:1.000000\n",
      "loss:0.648947 acc:0.812500\n",
      "loss:0.127426 acc:1.000000\n",
      "loss:0.289943 acc:0.937500\n",
      "loss:0.099376 acc:1.000000\n",
      "Epoch:1/1 AVG Training Loss:0.298 AVG Test Loss:0.120 AVG Training Acc 89.36 % AVG Test Acc 96.56 %\n"
     ]
    }
   ],
   "source": [
    "if __name__ == '__main__':\n",
    "\n",
    "  # Model Configuration\n",
    "  resnet = resnet34(pretrained=True)\n",
    "  model = Net(resnet)\n",
    "  model = model.to(device)\n",
    "  optimizer = optim.Adam(model.parameters(),lr=1e-4,betas=(0.9,0.999),eps=1e-8,weight_decay=5e-4,amsgrad=True)\n",
    "  \n",
    "  # Configuration options\n",
    "  k_folds = 3\n",
    "  num_epochs = 1\n",
    "  batch_size = 16\n",
    "  \n",
    "  # For fold results\n",
    "  history = {'train_loss': [], 'test_loss': [],'train_acc':[],'test_acc':[]}\n",
    "  \n",
    "  # Set fixed random number seed\n",
    "  torch.manual_seed(42)\n",
    "\n",
    "  criterion = nn.CrossEntropyLoss()\n",
    "\n",
    "  # Define the K-fold Cross Validator\n",
    "  kfold = KFold(n_splits=k_folds, shuffle=True)\n",
    "\n",
    "  y_test_folds=[]\n",
    "  y_pred_folds=[]\n",
    "\n",
    "  # Start print\n",
    "  print('--------------------------------')\n",
    "\n",
    "  # K-fold Cross Validation model evaluation\n",
    "  for fold, (train_idx, test_idx) in enumerate(kfold.split(cell_dataset)):\n",
    "    \n",
    "    # Print\n",
    "    print(f'FOLD {fold+1}')\n",
    "    print('--------------------------------')\n",
    "    \n",
    "    train_sampler = SubsetRandomSampler(train_idx)\n",
    "    test_sampler = SubsetRandomSampler(test_idx)\n",
    "    train_loader = DataLoader(cell_dataset, batch_size=batch_size, sampler=train_sampler)\n",
    "    test_loader = DataLoader(cell_dataset, batch_size=batch_size, sampler=test_sampler)\n",
    "    \n",
    "    # Run the training loop for defined number of epochs\n",
    "    for epoch in range(0, num_epochs):\n",
    "\n",
    "      # Print epoch\n",
    "      print(f'Starting epoch {epoch+1}')\n",
    "        \n",
    "      train_loss, train_correct=train_epoch(model,device,train_loader,criterion,optimizer)\n",
    "      test_loss, test_correct, test_labels, test_preds=valid_epoch_2(model,device,test_loader,criterion)\n",
    "\n",
    "\n",
    "      train_loss = train_loss / len(train_loader.sampler)\n",
    "      train_acc = train_correct / len(train_loader.sampler) * 100\n",
    "      test_loss = test_loss / len(test_loader.sampler)\n",
    "      test_acc = test_correct / len(test_loader.sampler) * 100\n",
    "\n",
    "      print(\"Epoch:{}/{} AVG Training Loss:{:.3f} AVG Test Loss:{:.3f} AVG Training Acc {:.2f} % AVG Test Acc {:.2f} %\".format(epoch + 1,\n",
    "                                                                                                             num_epochs,\n",
    "                                                                                                             train_loss,\n",
    "                                                                                                             test_loss,\n",
    "                                                                                                             train_acc,\n",
    "                                                                                                             test_acc))\n",
    "      \n",
    "      history['train_loss'].append(train_loss)\n",
    "      history['test_loss'].append(test_loss)\n",
    "      history['train_acc'].append(train_acc)\n",
    "      history['test_acc'].append(test_acc)\n",
    "\n",
    "    y_test_folds.append(test_labels) \n",
    "    y_pred_folds.append(test_preds) \n",
    "\n",
    "    # Write models on disk\n",
    "    foldNum = str(fold+1)\n",
    "    model_name = 'model'+foldNum+'.pth'\n",
    "    torch.save(model, model_name)\n"
   ]
  },
  {
   "cell_type": "code",
   "execution_count": 10,
   "metadata": {
    "colab": {
     "base_uri": "https://localhost:8080/"
    },
    "id": "h0jEwhsQXOXL",
    "outputId": "a1f0769a-0122-4b20-f333-71fcb41d13ab"
   },
   "outputs": [
    {
     "data": {
      "text/plain": [
       "[89.96960486322189, 94.12360688956434, 96.55521783181358]"
      ]
     },
     "execution_count": 10,
     "metadata": {},
     "output_type": "execute_result"
    }
   ],
   "source": [
    "history['test_acc']"
   ]
  },
  {
   "cell_type": "code",
   "execution_count": 11,
   "metadata": {
    "id": "WZ6F0fgKaBtv"
   },
   "outputs": [],
   "source": [
    "# required libraries for AUC plot\n",
    "from sklearn.metrics import roc_curve, auc\n",
    "from sklearn.metrics import RocCurveDisplay\n",
    "import matplotlib.pyplot as plt\n",
    "from itertools import cycle"
   ]
  },
  {
   "cell_type": "markdown",
   "metadata": {
    "id": "BvuFE75Ei1cU"
   },
   "source": [
    "## Get labels and prediction"
   ]
  },
  {
   "cell_type": "code",
   "execution_count": 12,
   "metadata": {
    "id": "lUbNRh8vBdwm"
   },
   "outputs": [],
   "source": [
    "y_test_arr=[]\n",
    "y_test_flt=[]\n",
    "for i in range(len(y_test_folds)):\n",
    "    y_testTensor = torch.cat(y_test_folds[i])\n",
    "    y_testTensor.numel()    \n",
    "    test_stk_tensor = y_testTensor.cpu().numpy()\n",
    "    y_test_arr.append(test_stk_tensor)\n",
    "    y_test_np = torch.flatten(y_testTensor).cpu().numpy()\n",
    "    y_test_flt.append(y_test_np)\n",
    "\n",
    "y_pred_arr=[]\n",
    "y_pred_flt=[]\n",
    "for j in range(len(y_pred_folds)):\n",
    "    y_predTensor = torch.cat(y_pred_folds[j])\n",
    "    y_predTensor.numel()\n",
    "    pred_stk_tensor = y_predTensor.cpu().numpy()\n",
    "    y_pred_arr.append(pred_stk_tensor) \n",
    "    y_pred_np = torch.flatten(y_predTensor).cpu().numpy()\n",
    "    y_pred_flt.append(y_pred_np)   "
   ]
  },
  {
   "cell_type": "code",
   "execution_count": 20,
   "metadata": {
    "id": "PfpmU5s_Ykag"
   },
   "outputs": [],
   "source": [
    "y_test_flt_out = np.concatenate(y_test_flt).ravel()\n",
    "y_pred_flt_out = np.concatenate(y_pred_flt).ravel()"
   ]
  },
  {
   "cell_type": "code",
   "execution_count": 14,
   "metadata": {
    "id": "VLbiC3yv-nFk"
   },
   "outputs": [],
   "source": [
    "y_test_arr=np.array(y_test_arr)\n",
    "y_pred_arr=np.array(y_pred_arr)"
   ]
  },
  {
   "cell_type": "code",
   "execution_count": 21,
   "metadata": {
    "id": "nAMtPzh6-yHz"
   },
   "outputs": [],
   "source": [
    "y_test_final=np.resize(y_test_arr, (y_test_arr.shape[1], y_test_arr.shape[2]))\n",
    "y_pred_final=np.resize(y_pred_arr, (y_pred_arr.shape[1], y_pred_arr.shape[2]))"
   ]
  },
  {
   "cell_type": "code",
   "execution_count": 22,
   "metadata": {
    "colab": {
     "base_uri": "https://localhost:8080/"
    },
    "id": "tyhjCSpcCtv-",
    "outputId": "17ce9161-e538-43f4-a2df-48ea8bbe3e90"
   },
   "outputs": [
    {
     "data": {
      "text/plain": [
       "(987, 4)"
      ]
     },
     "execution_count": 22,
     "metadata": {},
     "output_type": "execute_result"
    }
   ],
   "source": [
    "y_test_final.shape\n",
    "y_pred_final.shape"
   ]
  },
  {
   "cell_type": "code",
   "execution_count": 23,
   "metadata": {
    "id": "gO0OybljMPUF"
   },
   "outputs": [],
   "source": [
    "classes=('CMS1', 'CMS2', 'CMS3', 'CMS4')\n",
    "n_classes = len(classes)"
   ]
  },
  {
   "cell_type": "markdown",
   "metadata": {
    "id": "7EqdIj7wwdfF"
   },
   "source": [
    "## ROC curve using micro-averaged OvR"
   ]
  },
  {
   "cell_type": "code",
   "execution_count": 24,
   "metadata": {
    "colab": {
     "base_uri": "https://localhost:8080/",
     "height": 310
    },
    "id": "b8LGjaB5wezI",
    "outputId": "712a57d0-cbfa-4a06-b02d-b019bddb6580"
   },
   "outputs": [
    {
     "data": {
      "image/png": "[encoded data removed]",
      "text/plain": [
       "<Figure size 432x288 with 1 Axes>"
      ]
     },
     "metadata": {
      "needs_background": "light"
     },
     "output_type": "display_data"
    }
   ],
   "source": [
    "from sklearn.metrics import roc_curve, auc\n",
    "from itertools import cycle\n",
    "import matplotlib.pyplot as plt\n",
    "from sklearn.metrics import RocCurveDisplay\n",
    "\n",
    "RocCurveDisplay.from_predictions(\n",
    "    y_test_flt_out.ravel(),\n",
    "    y_pred_flt_out.ravel(),\n",
    "    name=\"micro-average OvR\",\n",
    "    color=\"darkorange\",\n",
    ")\n",
    "plt.plot([0, 1], [0, 1], \"k--\", label=\"chance level (AUC = 0.5)\")\n",
    "plt.axis(\"square\")\n",
    "plt.xlabel(\"False Positive Rate\")\n",
    "plt.ylabel(\"True Positive Rate\")\n",
    "plt.title(\"Micro-averaged One-vs-Rest\\nReceiver Operating Characteristic\")\n",
    "plt.legend()\n",
    "plt.show()"
   ]
  },
  {
   "cell_type": "code",
   "execution_count": 25,
   "metadata": {
    "colab": {
     "base_uri": "https://localhost:8080/"
    },
    "id": "IcGp1zNqwk_z",
    "outputId": "674ca397-a49e-4047-db7f-b4e79434231e"
   },
   "outputs": [
    {
     "name": "stdout",
     "output_type": "stream",
     "text": [
      "Micro-averaged One-vs-Rest ROC AUC score:\n",
      "0.96\n"
     ]
    }
   ],
   "source": [
    "from sklearn.metrics import roc_auc_score\n",
    "\n",
    "micro_roc_auc_ovr = roc_auc_score(\n",
    "    y_test_flt_out,\n",
    "    y_pred_flt_out,\n",
    "    multi_class=\"ovr\",\n",
    "    average=\"micro\",\n",
    ")\n",
    "\n",
    "print(f\"Micro-averaged One-vs-Rest ROC AUC score:\\n{micro_roc_auc_ovr:.2f}\")"
   ]
  },
  {
   "cell_type": "markdown",
   "metadata": {
    "id": "HrWDuoWiwn5M"
   },
   "source": [
    "## Another way to obtain the OvR micro-average"
   ]
  },
  {
   "cell_type": "code",
   "execution_count": 26,
   "metadata": {
    "colab": {
     "base_uri": "https://localhost:8080/"
    },
    "id": "MIFJLWQ0wo7D",
    "outputId": "2ada02f7-0dee-40fd-c373-5db0fc420f4b"
   },
   "outputs": [
    {
     "name": "stdout",
     "output_type": "stream",
     "text": [
      "Micro-averaged One-vs-Rest ROC AUC score:\n",
      "0.96\n"
     ]
    }
   ],
   "source": [
    "from sklearn.metrics import roc_curve, auc\n",
    "\n",
    "# store the fpr, tpr, and roc_auc for all averaging strategies\n",
    "fpr, tpr, roc_auc = dict(), dict(), dict()\n",
    "# Compute micro-average ROC curve and ROC area\n",
    "fpr[\"micro\"], tpr[\"micro\"], _ = roc_curve(y_test_flt_out.ravel(), y_pred_flt_out.ravel())\n",
    "roc_auc[\"micro\"] = auc(fpr[\"micro\"], tpr[\"micro\"])\n",
    "\n",
    "print(f\"Micro-averaged One-vs-Rest ROC AUC score:\\n{roc_auc['micro']:.2f}\")"
   ]
  },
  {
   "cell_type": "markdown",
   "metadata": {
    "id": "v53eENDaDkY2"
   },
   "source": [
    "## obtain the OvR macro-average"
   ]
  },
  {
   "cell_type": "code",
   "execution_count": 31,
   "metadata": {
    "colab": {
     "base_uri": "https://localhost:8080/"
    },
    "id": "4c5C9eOSELeY",
    "outputId": "2e05bbe5-36c2-476f-ca30-d709d83c087b"
   },
   "outputs": [
    {
     "name": "stdout",
     "output_type": "stream",
     "text": [
      "Macro-averaged One-vs-Rest ROC AUC score:\n",
      "0.92\n"
     ]
    }
   ],
   "source": [
    "for i in range(n_classes):\n",
    "    fpr[i], tpr[i], _ = roc_curve(y_test_final[:,i], y_pred_final[:,i])\n",
    "    roc_auc[i] = auc(fpr[i], tpr[i])\n",
    "\n",
    "\n",
    "fpr_grid = np.linspace(0.0, 1.0, 1000)\n",
    "\n",
    "# Interpolate all ROC curves at these points\n",
    "mean_tpr = np.zeros_like(fpr_grid)\n",
    "\n",
    "for i in range(n_classes):\n",
    "    mean_tpr += np.interp(fpr_grid, fpr[i], tpr[i])  # linear interpolation\n",
    "\n",
    "# Average it and compute AUC\n",
    "mean_tpr /= n_classes\n",
    "\n",
    "fpr[\"macro\"] = fpr_grid\n",
    "tpr[\"macro\"] = mean_tpr\n",
    "roc_auc[\"macro\"] = auc(fpr[\"macro\"], tpr[\"macro\"])\n",
    "\n",
    "print(f\"Macro-averaged One-vs-Rest ROC AUC score:\\n{roc_auc['macro']:.2f}\")"
   ]
  },
  {
   "cell_type": "markdown",
   "metadata": {
    "id": "oCj3iLZlw9Pi"
   },
   "source": [
    "## Another way to obtain the OvR macro-average"
   ]
  },
  {
   "cell_type": "code",
   "execution_count": 32,
   "metadata": {
    "colab": {
     "base_uri": "https://localhost:8080/"
    },
    "id": "qMVjEldWw-LY",
    "outputId": "19f64240-de7a-4413-8534-8cbccaab9fa8"
   },
   "outputs": [
    {
     "name": "stdout",
     "output_type": "stream",
     "text": [
      "Macro-averaged One-vs-Rest ROC AUC score:\n",
      "0.92\n"
     ]
    }
   ],
   "source": [
    "macro_roc_auc_ovr = roc_auc_score(\n",
    "    y_test_final,\n",
    "    y_pred_final,\n",
    "    multi_class=\"ovr\",\n",
    "    average=\"macro\",\n",
    ")\n",
    "\n",
    "print(f\"Macro-averaged One-vs-Rest ROC AUC score:\\n{macro_roc_auc_ovr:.2f}\")"
   ]
  },
  {
   "cell_type": "markdown",
   "metadata": {
    "id": "VgURsIg4EXDT"
   },
   "source": [
    "## Plot all OvR ROC curves together"
   ]
  },
  {
   "cell_type": "code",
   "execution_count": 33,
   "metadata": {
    "colab": {
     "base_uri": "https://localhost:8080/",
     "height": 310
    },
    "id": "2ZXT6GH1EYbr",
    "outputId": "42b2a36c-b301-4718-c675-234df433c846"
   },
   "outputs": [
    {
     "data": {
      "image/png": "[encoded data removed]",
      "text/plain": [
       "<Figure size 288x288 with 1 Axes>"
      ]
     },
     "metadata": {
      "needs_background": "light"
     },
     "output_type": "display_data"
    }
   ],
   "source": [
    "from itertools import cycle\n",
    "\n",
    "fig, ax = plt.subplots(figsize=(4, 4))\n",
    "\n",
    "\n",
    "colors = cycle([\"aqua\", \"darkorange\", \"limegreen\", \"cornflowerblue\"])\n",
    "for class_id, color in zip(range(n_classes), colors):\n",
    "    RocCurveDisplay.from_predictions(\n",
    "        y_test_final[:, class_id],\n",
    "        y_pred_final[:, class_id],\n",
    "        name=f\"ROC curve for {classes[class_id]}\",\n",
    "        color=color,\n",
    "        ax=ax,\n",
    "    )\n",
    "\n",
    "plt.plot([0, 1], [0, 1], \"k--\", label=\"ROC curve for chance level (AUC = 0.5)\")\n",
    "plt.axis(\"square\")\n",
    "plt.xlabel(\"False Positive Rate\")\n",
    "plt.ylabel(\"True Positive Rate\")\n",
    "plt.title(\"Extension of Receiver Operating Characteristic\\nto One-vs-Rest multiclass\")\n",
    "plt.legend()\n",
    "plt.show()"
   ]
  },
  {
   "cell_type": "markdown",
   "metadata": {
    "id": "_qadsc9cPCgP"
   },
   "source": [
    "## with mico and macro"
   ]
  },
  {
   "cell_type": "code",
   "execution_count": 34,
   "metadata": {
    "colab": {
     "base_uri": "https://localhost:8080/",
     "height": 419
    },
    "id": "DpamXStzPGCO",
    "outputId": "9ccb7706-3462-4962-a4ed-311ec88d8556"
   },
   "outputs": [
    {
     "data": {
      "image/png": "[encoded data removed]",
      "text/plain": [
       "<Figure size 432x432 with 1 Axes>"
      ]
     },
     "metadata": {
      "needs_background": "light"
     },
     "output_type": "display_data"
    }
   ],
   "source": [
    "from itertools import cycle\n",
    "\n",
    "fig, ax = plt.subplots(figsize=(6, 6))\n",
    "\n",
    "plt.plot(\n",
    "    fpr[\"micro\"],\n",
    "    tpr[\"micro\"],\n",
    "    label=f\"micro-average ROC curve (AUC = {roc_auc['micro']:.2f})\",\n",
    "    color=\"deeppink\",\n",
    "    linestyle=\":\",\n",
    "    linewidth=4,\n",
    ")\n",
    "\n",
    "plt.plot(\n",
    "    fpr[\"macro\"],\n",
    "    tpr[\"macro\"],\n",
    "    label=f\"macro-average ROC curve (AUC = {roc_auc['macro']:.2f})\",\n",
    "    color=\"navy\",\n",
    "    linestyle=\":\",\n",
    "    linewidth=4,\n",
    ")\n",
    "\n",
    "colors = cycle([\"aqua\", \"darkorange\", \"limegreen\", \"cornflowerblue\"])\n",
    "for class_id, color in zip(range(n_classes), colors):\n",
    "    RocCurveDisplay.from_predictions(\n",
    "        y_test_final[:, class_id],\n",
    "        y_pred_final[:, class_id],\n",
    "        name=f\"ROC curve for {classes[class_id]}\",\n",
    "        color=color,\n",
    "        ax=ax,\n",
    "    )\n",
    "\n",
    "plt.plot([0, 1], [0, 1], \"k--\", label=\"ROC curve for chance level (AUC = 0.5)\")\n",
    "plt.axis(\"square\")\n",
    "plt.xlabel(\"False Positive Rate\")\n",
    "plt.ylabel(\"True Positive Rate\")\n",
    "plt.title(\"Extension of Receiver Operating Characteristic\\nto One-vs-Rest multiclass\")\n",
    "plt.legend()\n",
    "plt.show()"
   ]
  },
  {
   "cell_type": "markdown",
   "metadata": {
    "id": "BpR8ZnV9OsV4"
   },
   "source": [
    "## Precision and Recall score for each class"
   ]
  },
  {
   "cell_type": "code",
   "execution_count": 35,
   "metadata": {
    "colab": {
     "base_uri": "https://localhost:8080/"
    },
    "id": "Ljm6hRmrOt57",
    "outputId": "510b44b2-befb-4f34-fa9e-1448445cdcff"
   },
   "outputs": [
    {
     "name": "stdout",
     "output_type": "stream",
     "text": [
      "Precision scores for 4 classes are: [0.91358025 0.93181818 0.89495798 0.88791209]\n",
      "Recall scores for 4 classes are: [0.78306878 0.71511628 0.98611111 0.98536585]\n"
     ]
    }
   ],
   "source": [
    "from sklearn.metrics import precision_score\n",
    "from sklearn.metrics import recall_score\n",
    "\n",
    "print(\"Precision scores for 4 classes are:\", precision_score(y_test_final, y_pred_final, average=None))\n",
    "print(\"Recall scores for 4 classes are:\", recall_score(y_test_final, y_pred_final, average=None))"
   ]
  },
  {
   "cell_type": "markdown",
   "metadata": {
    "id": "HLMD-F3mTusX"
   },
   "source": [
    "## Text summary of the Precision, Recall, F1 score for each class"
   ]
  },
  {
   "cell_type": "code",
   "execution_count": 36,
   "metadata": {
    "colab": {
     "base_uri": "https://localhost:8080/"
    },
    "id": "-YYLonodPlN_",
    "outputId": "38e4235a-c22c-478e-fca7-6d06b6f1c213"
   },
   "outputs": [
    {
     "name": "stdout",
     "output_type": "stream",
     "text": [
      "              precision    recall  f1-score   support\n",
      "\n",
      "        CMS1       0.91      0.78      0.84       189\n",
      "        CMS2       0.93      0.72      0.81       172\n",
      "        CMS3       0.89      0.99      0.94       216\n",
      "        CMS4       0.89      0.99      0.93       410\n",
      "\n",
      "   micro avg       0.90      0.90      0.90       987\n",
      "   macro avg       0.91      0.87      0.88       987\n",
      "weighted avg       0.90      0.90      0.90       987\n",
      " samples avg       0.90      0.90      0.90       987\n",
      "\n"
     ]
    }
   ],
   "source": [
    "from sklearn.metrics import classification_report\n",
    "class_names = ['CMS1', 'CMS2', 'CMS3', 'CMS4']\n",
    "print(classification_report(y_test_final, y_pred_final, target_names=class_names))"
   ]
  }
 ],
 "metadata": {
  "accelerator": "GPU",
  "colab": {
   "provenance": []
  },
  "gpuClass": "standard",
  "kernelspec": {
   "display_name": "Python 3 (ipykernel)",
   "language": "python",
   "name": "python3"
  },
  "language_info": {
   "codemirror_mode": {
    "name": "ipython",
    "version": 3
   },
   "file_extension": ".py",
   "mimetype": "text/x-python",
   "name": "python",
   "nbconvert_exporter": "python",
   "pygments_lexer": "ipython3",
   "version": "3.9.12"
  },
  "widgets": {
   "application/vnd.jupyter.widget-state+json": {
    "31e87c4e2c5c4304938fc9f05f9e7c2d": {
     "model_module": "@jupyter-widgets/controls",
     "model_module_version": "1.5.0",
     "model_name": "FloatProgressModel",
     "state": {
      "_dom_classes": [],
      "_model_module": "@jupyter-widgets/controls",
      "_model_module_version": "1.5.0",
      "_model_name": "FloatProgressModel",
      "_view_count": null,
      "_view_module": "@jupyter-widgets/controls",
      "_view_module_version": "1.5.0",
      "_view_name": "ProgressView",
      "bar_style": "success",
      "description": "",
      "description_tooltip": null,
      "layout": "IPY_MODEL_f0cfeda5a5c04e1dba59f864152741f0",
      "max": 87319819,
      "min": 0,
      "orientation": "horizontal",
      "style": "IPY_MODEL_c24045159769479aa008557cd69319f3",
      "value": 87319819
     }
    },
    "3b8cec6c36ea4905b6d83f1970dc2b44": {
     "model_module": "@jupyter-widgets/base",
     "model_module_version": "1.2.0",
     "model_name": "LayoutModel",
     "state": {
      "_model_module": "@jupyter-widgets/base",
      "_model_module_version": "1.2.0",
      "_model_name": "LayoutModel",
      "_view_count": null,
      "_view_module": "@jupyter-widgets/base",
      "_view_module_version": "1.2.0",
      "_view_name": "LayoutView",
      "align_content": null,
      "align_items": null,
      "align_self": null,
      "border": null,
      "bottom": null,
      "display": null,
      "flex": null,
      "flex_flow": null,
      "grid_area": null,
      "grid_auto_columns": null,
      "grid_auto_flow": null,
      "grid_auto_rows": null,
      "grid_column": null,
      "grid_gap": null,
      "grid_row": null,
      "grid_template_areas": null,
      "grid_template_columns": null,
      "grid_template_rows": null,
      "height": null,
      "justify_content": null,
      "justify_items": null,
      "left": null,
      "margin": null,
      "max_height": null,
      "max_width": null,
      "min_height": null,
      "min_width": null,
      "object_fit": null,
      "object_position": null,
      "order": null,
      "overflow": null,
      "overflow_x": null,
      "overflow_y": null,
      "padding": null,
      "right": null,
      "top": null,
      "visibility": null,
      "width": null
     }
    },
    "414836bd4203474588b8bc2305524de8": {
     "model_module": "@jupyter-widgets/controls",
     "model_module_version": "1.5.0",
     "model_name": "DescriptionStyleModel",
     "state": {
      "_model_module": "@jupyter-widgets/controls",
      "_model_module_version": "1.5.0",
      "_model_name": "DescriptionStyleModel",
      "_view_count": null,
      "_view_module": "@jupyter-widgets/base",
      "_view_module_version": "1.2.0",
      "_view_name": "StyleView",
      "description_width": ""
     }
    },
    "5840f2d54bd142bc88ed9d041b833b6c": {
     "model_module": "@jupyter-widgets/controls",
     "model_module_version": "1.5.0",
     "model_name": "HTMLModel",
     "state": {
      "_dom_classes": [],
      "_model_module": "@jupyter-widgets/controls",
      "_model_module_version": "1.5.0",
      "_model_name": "HTMLModel",
      "_view_count": null,
      "_view_module": "@jupyter-widgets/controls",
      "_view_module_version": "1.5.0",
      "_view_name": "HTMLView",
      "description": "",
      "description_tooltip": null,
      "layout": "IPY_MODEL_99857afc6f5f4f93ac86c5b4dfed135a",
      "placeholder": "​",
      "style": "IPY_MODEL_414836bd4203474588b8bc2305524de8",
      "value": "100%"
     }
    },
    "60a3c4bc220e42f4a2fe5dd170b146de": {
     "model_module": "@jupyter-widgets/base",
     "model_module_version": "1.2.0",
     "model_name": "LayoutModel",
     "state": {
      "_model_module": "@jupyter-widgets/base",
      "_model_module_version": "1.2.0",
      "_model_name": "LayoutModel",
      "_view_count": null,
      "_view_module": "@jupyter-widgets/base",
      "_view_module_version": "1.2.0",
      "_view_name": "LayoutView",
      "align_content": null,
      "align_items": null,
      "align_self": null,
      "border": null,
      "bottom": null,
      "display": null,
      "flex": null,
      "flex_flow": null,
      "grid_area": null,
      "grid_auto_columns": null,
      "grid_auto_flow": null,
      "grid_auto_rows": null,
      "grid_column": null,
      "grid_gap": null,
      "grid_row": null,
      "grid_template_areas": null,
      "grid_template_columns": null,
      "grid_template_rows": null,
      "height": null,
      "justify_content": null,
      "justify_items": null,
      "left": null,
      "margin": null,
      "max_height": null,
      "max_width": null,
      "min_height": null,
      "min_width": null,
      "object_fit": null,
      "object_position": null,
      "order": null,
      "overflow": null,
      "overflow_x": null,
      "overflow_y": null,
      "padding": null,
      "right": null,
      "top": null,
      "visibility": null,
      "width": null
     }
    },
    "99857afc6f5f4f93ac86c5b4dfed135a": {
     "model_module": "@jupyter-widgets/base",
     "model_module_version": "1.2.0",
     "model_name": "LayoutModel",
     "state": {
      "_model_module": "@jupyter-widgets/base",
      "_model_module_version": "1.2.0",
      "_model_name": "LayoutModel",
      "_view_count": null,
      "_view_module": "@jupyter-widgets/base",
      "_view_module_version": "1.2.0",
      "_view_name": "LayoutView",
      "align_content": null,
      "align_items": null,
      "align_self": null,
      "border": null,
      "bottom": null,
      "display": null,
      "flex": null,
      "flex_flow": null,
      "grid_area": null,
      "grid_auto_columns": null,
      "grid_auto_flow": null,
      "grid_auto_rows": null,
      "grid_column": null,
      "grid_gap": null,
      "grid_row": null,
      "grid_template_areas": null,
      "grid_template_columns": null,
      "grid_template_rows": null,
      "height": null,
      "justify_content": null,
      "justify_items": null,
      "left": null,
      "margin": null,
      "max_height": null,
      "max_width": null,
      "min_height": null,
      "min_width": null,
      "object_fit": null,
      "object_position": null,
      "order": null,
      "overflow": null,
      "overflow_x": null,
      "overflow_y": null,
      "padding": null,
      "right": null,
      "top": null,
      "visibility": null,
      "width": null
     }
    },
    "9ac6912370be40c796f7df840973c366": {
     "model_module": "@jupyter-widgets/controls",
     "model_module_version": "1.5.0",
     "model_name": "DescriptionStyleModel",
     "state": {
      "_model_module": "@jupyter-widgets/controls",
      "_model_module_version": "1.5.0",
      "_model_name": "DescriptionStyleModel",
      "_view_count": null,
      "_view_module": "@jupyter-widgets/base",
      "_view_module_version": "1.2.0",
      "_view_name": "StyleView",
      "description_width": ""
     }
    },
    "a2e4af528fc84689934df79b69c1c76b": {
     "model_module": "@jupyter-widgets/controls",
     "model_module_version": "1.5.0",
     "model_name": "HTMLModel",
     "state": {
      "_dom_classes": [],
      "_model_module": "@jupyter-widgets/controls",
      "_model_module_version": "1.5.0",
      "_model_name": "HTMLModel",
      "_view_count": null,
      "_view_module": "@jupyter-widgets/controls",
      "_view_module_version": "1.5.0",
      "_view_name": "HTMLView",
      "description": "",
      "description_tooltip": null,
      "layout": "IPY_MODEL_60a3c4bc220e42f4a2fe5dd170b146de",
      "placeholder": "​",
      "style": "IPY_MODEL_9ac6912370be40c796f7df840973c366",
      "value": " 83.3M/83.3M [00:00&lt;00:00, 219MB/s]"
     }
    },
    "c20c2cb479644578bab659bbc66ef3f6": {
     "model_module": "@jupyter-widgets/controls",
     "model_module_version": "1.5.0",
     "model_name": "HBoxModel",
     "state": {
      "_dom_classes": [],
      "_model_module": "@jupyter-widgets/controls",
      "_model_module_version": "1.5.0",
      "_model_name": "HBoxModel",
      "_view_count": null,
      "_view_module": "@jupyter-widgets/controls",
      "_view_module_version": "1.5.0",
      "_view_name": "HBoxView",
      "box_style": "",
      "children": [
       "IPY_MODEL_5840f2d54bd142bc88ed9d041b833b6c",
       "IPY_MODEL_31e87c4e2c5c4304938fc9f05f9e7c2d",
       "IPY_MODEL_a2e4af528fc84689934df79b69c1c76b"
      ],
      "layout": "IPY_MODEL_3b8cec6c36ea4905b6d83f1970dc2b44"
     }
    },
    "c24045159769479aa008557cd69319f3": {
     "model_module": "@jupyter-widgets/controls",
     "model_module_version": "1.5.0",
     "model_name": "ProgressStyleModel",
     "state": {
      "_model_module": "@jupyter-widgets/controls",
      "_model_module_version": "1.5.0",
      "_model_name": "ProgressStyleModel",
      "_view_count": null,
      "_view_module": "@jupyter-widgets/base",
      "_view_module_version": "1.2.0",
      "_view_name": "StyleView",
      "bar_color": null,
      "description_width": ""
     }
    },
    "f0cfeda5a5c04e1dba59f864152741f0": {
     "model_module": "@jupyter-widgets/base",
     "model_module_version": "1.2.0",
     "model_name": "LayoutModel",
     "state": {
      "_model_module": "@jupyter-widgets/base",
      "_model_module_version": "1.2.0",
      "_model_name": "LayoutModel",
      "_view_count": null,
      "_view_module": "@jupyter-widgets/base",
      "_view_module_version": "1.2.0",
      "_view_name": "LayoutView",
      "align_content": null,
      "align_items": null,
      "align_self": null,
      "border": null,
      "bottom": null,
      "display": null,
      "flex": null,
      "flex_flow": null,
      "grid_area": null,
      "grid_auto_columns": null,
      "grid_auto_flow": null,
      "grid_auto_rows": null,
      "grid_column": null,
      "grid_gap": null,
      "grid_row": null,
      "grid_template_areas": null,
      "grid_template_columns": null,
      "grid_template_rows": null,
      "height": null,
      "justify_content": null,
      "justify_items": null,
      "left": null,
      "margin": null,
      "max_height": null,
      "max_width": null,
      "min_height": null,
      "min_width": null,
      "object_fit": null,
      "object_position": null,
      "order": null,
      "overflow": null,
      "overflow_x": null,
      "overflow_y": null,
      "padding": null,
      "right": null,
      "top": null,
      "visibility": null,
      "width": null
     }
    }
   }
  }
 },
 "nbformat": 4,
 "nbformat_minor": 1
}
