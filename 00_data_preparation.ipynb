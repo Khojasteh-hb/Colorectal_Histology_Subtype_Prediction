{
  "nbformat": 4,
  "nbformat_minor": 0,
  "metadata": {
    "colab": {
      "name": "00-data-preparation.ipynb",
      "provenance": [],
      "collapsed_sections": [],
      "include_colab_link": true
    },
    "kernelspec": {
      "name": "python3",
      "display_name": "Python 3"
    },
    "language_info": {
      "name": "python"
    }
  },
  "cells": [
    {
      "cell_type": "markdown",
      "metadata": {
        "id": "view-in-github",
        "colab_type": "text"
      },
      "source": [
        "<a href=\"https://colab.research.google.com/github/Khojasteh-hb/subtype_prediction/blob/main/00_data_preparation.ipynb\" target=\"_parent\"><img src=\"https://colab.research.google.com/assets/colab-badge.svg\" alt=\"Open In Colab\"/></a>"
      ]
    },
    {
      "cell_type": "code",
      "source": [
        "from google.colab import drive\n",
        "drive.mount('/content/drive')"
      ],
      "metadata": {
        "colab": {
          "base_uri": "https://localhost:8080/"
        },
        "id": "Hm9SyrxUkf0x",
        "outputId": "7e2c8a47-3fd0-4e29-d601-e31d056c2fb3"
      },
      "execution_count": null,
      "outputs": [
        {
          "output_type": "stream",
          "name": "stdout",
          "text": [
            "Mounted at /content/drive\n"
          ]
        }
      ]
    },
    {
      "cell_type": "code",
      "source": [
        "import os\n",
        "from imutils import paths\n",
        "\n",
        "rootdir = '/content/drive/MyDrive/coad_tiles'\n",
        "\n",
        "image_paths = list(paths.list_images(rootdir))\n",
        "print(len(image_paths))"
      ],
      "metadata": {
        "colab": {
          "base_uri": "https://localhost:8080/"
        },
        "id": "nP1eTQOwk4-m",
        "outputId": "698a557e-ac79-4ebe-8ed9-795bfe01978b"
      },
      "execution_count": null,
      "outputs": [
        {
          "output_type": "stream",
          "name": "stdout",
          "text": [
            "160173\n"
          ]
        }
      ]
    },
    {
      "cell_type": "code",
      "source": [
        "img_path=[]\n",
        "for i in range(len(image_paths)):\n",
        "  whole_path = image_paths[i]\n",
        "  print(whole_path)\n",
        "  sub_path = whole_path.replace('/content/drive/MyDrive/coad_tiles/' , '')\n",
        "  img_path.append(sub_path)\n",
        "\n",
        "len(sub_path)"
      ],
      "metadata": {
        "id": "eAUb8nCDlXvu"
      },
      "execution_count": null,
      "outputs": []
    },
    {
      "cell_type": "code",
      "source": [
        "len(img_path) # 160173"
      ],
      "metadata": {
        "colab": {
          "base_uri": "https://localhost:8080/"
        },
        "id": "7DoI1tzmmYke",
        "outputId": "23cc966a-35d9-4a0f-897f-0d9afcf1ef71"
      },
      "execution_count": null,
      "outputs": [
        {
          "output_type": "execute_result",
          "data": {
            "text/plain": [
              "160173"
            ]
          },
          "metadata": {},
          "execution_count": 57
        }
      ]
    },
    {
      "cell_type": "code",
      "source": [
        "import pandas as pd\n",
        "df_image_path = pd.DataFrame(img_path)\n",
        "df_image_path.columns = ['image_path']\n",
        "print(df_image_path.head())"
      ],
      "metadata": {
        "id": "TtZGP-cymotu"
      },
      "execution_count": null,
      "outputs": []
    },
    {
      "cell_type": "code",
      "source": [
        "import os\n",
        "os.chdir('/content/drive/MyDrive')\n",
        "directory = os.getcwd()\n",
        "print(\"The Current working directory is :\", directory)"
      ],
      "metadata": {
        "id": "-cA49zmYnnwm"
      },
      "execution_count": null,
      "outputs": []
    },
    {
      "cell_type": "code",
      "source": [
        "import csv\n",
        "import pandas as pd\n",
        "# reading csv file\n",
        "df_subclass = pd.read_csv(\"COAD_CMS_label.csv\")\n",
        "df_subclass.head(5)\n"
      ],
      "metadata": {
        "colab": {
          "base_uri": "https://localhost:8080/",
          "height": 206
        },
        "id": "f4YPCIdGnvMM",
        "outputId": "361bea94-8e2f-4954-a578-11a80f06d7e1"
      },
      "execution_count": null,
      "outputs": [
        {
          "output_type": "execute_result",
          "data": {
            "text/plain": [
              "                                         folder_name CMS_Subtype\n",
              "0  TCGA-A6-2683-01Z-00-DX1.0dfc5d0a-68f4-45e1-a87...        CMS2\n",
              "1  TCGA-F4-6459-01Z-00-DX1.80a78213-1137-4521-9d6...        CMS4\n",
              "2  TCGA-AY-4070-01Z-00-DX1.dd650ac6-8480-4fd8-85b...        CMS4\n",
              "3  TCGA-A6-6653-01Z-00-DX1.e130666d-2681-4382-9e7...        CMS1\n",
              "4  TCGA-DM-A1D8-01Z-00-DX1.2DD544F5-D72F-4840-B2D...        CMS2"
            ],
            "text/html": [
              "\n",
              "  <div id=\"df-7662e5c6-2bd7-45a0-a3ba-26d560fa56a1\">\n",
              "    <div class=\"colab-df-container\">\n",
              "      <div>\n",
              "<style scoped>\n",
              "    .dataframe tbody tr th:only-of-type {\n",
              "        vertical-align: middle;\n",
              "    }\n",
              "\n",
              "    .dataframe tbody tr th {\n",
              "        vertical-align: top;\n",
              "    }\n",
              "\n",
              "    .dataframe thead th {\n",
              "        text-align: right;\n",
              "    }\n",
              "</style>\n",
              "<table border=\"1\" class=\"dataframe\">\n",
              "  <thead>\n",
              "    <tr style=\"text-align: right;\">\n",
              "      <th></th>\n",
              "      <th>folder_name</th>\n",
              "      <th>CMS_Subtype</th>\n",
              "    </tr>\n",
              "  </thead>\n",
              "  <tbody>\n",
              "    <tr>\n",
              "      <th>0</th>\n",
              "      <td>TCGA-A6-2683-01Z-00-DX1.0dfc5d0a-68f4-45e1-a87...</td>\n",
              "      <td>CMS2</td>\n",
              "    </tr>\n",
              "    <tr>\n",
              "      <th>1</th>\n",
              "      <td>TCGA-F4-6459-01Z-00-DX1.80a78213-1137-4521-9d6...</td>\n",
              "      <td>CMS4</td>\n",
              "    </tr>\n",
              "    <tr>\n",
              "      <th>2</th>\n",
              "      <td>TCGA-AY-4070-01Z-00-DX1.dd650ac6-8480-4fd8-85b...</td>\n",
              "      <td>CMS4</td>\n",
              "    </tr>\n",
              "    <tr>\n",
              "      <th>3</th>\n",
              "      <td>TCGA-A6-6653-01Z-00-DX1.e130666d-2681-4382-9e7...</td>\n",
              "      <td>CMS1</td>\n",
              "    </tr>\n",
              "    <tr>\n",
              "      <th>4</th>\n",
              "      <td>TCGA-DM-A1D8-01Z-00-DX1.2DD544F5-D72F-4840-B2D...</td>\n",
              "      <td>CMS2</td>\n",
              "    </tr>\n",
              "  </tbody>\n",
              "</table>\n",
              "</div>\n",
              "      <button class=\"colab-df-convert\" onclick=\"convertToInteractive('df-7662e5c6-2bd7-45a0-a3ba-26d560fa56a1')\"\n",
              "              title=\"Convert this dataframe to an interactive table.\"\n",
              "              style=\"display:none;\">\n",
              "        \n",
              "  <svg xmlns=\"http://www.w3.org/2000/svg\" height=\"24px\"viewBox=\"0 0 24 24\"\n",
              "       width=\"24px\">\n",
              "    <path d=\"M0 0h24v24H0V0z\" fill=\"none\"/>\n",
              "    <path d=\"M18.56 5.44l.94 2.06.94-2.06 2.06-.94-2.06-.94-.94-2.06-.94 2.06-2.06.94zm-11 1L8.5 8.5l.94-2.06 2.06-.94-2.06-.94L8.5 2.5l-.94 2.06-2.06.94zm10 10l.94 2.06.94-2.06 2.06-.94-2.06-.94-.94-2.06-.94 2.06-2.06.94z\"/><path d=\"M17.41 7.96l-1.37-1.37c-.4-.4-.92-.59-1.43-.59-.52 0-1.04.2-1.43.59L10.3 9.45l-7.72 7.72c-.78.78-.78 2.05 0 2.83L4 21.41c.39.39.9.59 1.41.59.51 0 1.02-.2 1.41-.59l7.78-7.78 2.81-2.81c.8-.78.8-2.07 0-2.86zM5.41 20L4 18.59l7.72-7.72 1.47 1.35L5.41 20z\"/>\n",
              "  </svg>\n",
              "      </button>\n",
              "      \n",
              "  <style>\n",
              "    .colab-df-container {\n",
              "      display:flex;\n",
              "      flex-wrap:wrap;\n",
              "      gap: 12px;\n",
              "    }\n",
              "\n",
              "    .colab-df-convert {\n",
              "      background-color: #E8F0FE;\n",
              "      border: none;\n",
              "      border-radius: 50%;\n",
              "      cursor: pointer;\n",
              "      display: none;\n",
              "      fill: #1967D2;\n",
              "      height: 32px;\n",
              "      padding: 0 0 0 0;\n",
              "      width: 32px;\n",
              "    }\n",
              "\n",
              "    .colab-df-convert:hover {\n",
              "      background-color: #E2EBFA;\n",
              "      box-shadow: 0px 1px 2px rgba(60, 64, 67, 0.3), 0px 1px 3px 1px rgba(60, 64, 67, 0.15);\n",
              "      fill: #174EA6;\n",
              "    }\n",
              "\n",
              "    [theme=dark] .colab-df-convert {\n",
              "      background-color: #3B4455;\n",
              "      fill: #D2E3FC;\n",
              "    }\n",
              "\n",
              "    [theme=dark] .colab-df-convert:hover {\n",
              "      background-color: #434B5C;\n",
              "      box-shadow: 0px 1px 3px 1px rgba(0, 0, 0, 0.15);\n",
              "      filter: drop-shadow(0px 1px 2px rgba(0, 0, 0, 0.3));\n",
              "      fill: #FFFFFF;\n",
              "    }\n",
              "  </style>\n",
              "\n",
              "      <script>\n",
              "        const buttonEl =\n",
              "          document.querySelector('#df-7662e5c6-2bd7-45a0-a3ba-26d560fa56a1 button.colab-df-convert');\n",
              "        buttonEl.style.display =\n",
              "          google.colab.kernel.accessAllowed ? 'block' : 'none';\n",
              "\n",
              "        async function convertToInteractive(key) {\n",
              "          const element = document.querySelector('#df-7662e5c6-2bd7-45a0-a3ba-26d560fa56a1');\n",
              "          const dataTable =\n",
              "            await google.colab.kernel.invokeFunction('convertToInteractive',\n",
              "                                                     [key], {});\n",
              "          if (!dataTable) return;\n",
              "\n",
              "          const docLinkHtml = 'Like what you see? Visit the ' +\n",
              "            '<a target=\"_blank\" href=https://colab.research.google.com/notebooks/data_table.ipynb>data table notebook</a>'\n",
              "            + ' to learn more about interactive tables.';\n",
              "          element.innerHTML = '';\n",
              "          dataTable['output_type'] = 'display_data';\n",
              "          await google.colab.output.renderOutput(dataTable, element);\n",
              "          const docLink = document.createElement('div');\n",
              "          docLink.innerHTML = docLinkHtml;\n",
              "          element.appendChild(docLink);\n",
              "        }\n",
              "      </script>\n",
              "    </div>\n",
              "  </div>\n",
              "  "
            ]
          },
          "metadata": {},
          "execution_count": 40
        }
      ]
    },
    {
      "cell_type": "code",
      "source": [
        "labeled_imgs=[]\n",
        "subclass_list=[]\n",
        "\n",
        "for i in range(len(df_image_path)):\n",
        "  for j in range(len(df_subclass)):\n",
        "    if df_subclass.loc[j, 'folder_name'] in df_image_path.loc[i, 'image_path']:\n",
        "      labeled_imgs.append(df_image_path.loc[i, 'image_path'])\n",
        "      subclass_list.append(df_subclass.loc[j, 'CMS_Subtype'])\n",
        "\n",
        "len(labeled_imgs) # 126747\n",
        "len(subclass_list) # 126747   "
      ],
      "metadata": {
        "colab": {
          "base_uri": "https://localhost:8080/"
        },
        "id": "VwCA8dwPn-ql",
        "outputId": "6969f18a-820b-488d-a7ad-e2537d6e716e"
      },
      "execution_count": null,
      "outputs": [
        {
          "output_type": "execute_result",
          "data": {
            "text/plain": [
              "126747"
            ]
          },
          "metadata": {},
          "execution_count": 45
        }
      ]
    },
    {
      "cell_type": "code",
      "source": [
        "import pandas as pd\n",
        "df_labeled_imgs = pd.DataFrame(labeled_imgs)\n",
        "df_labeled_imgs.columns = ['image_path']\n",
        "print(df_labeled_imgs.head())"
      ],
      "metadata": {
        "colab": {
          "base_uri": "https://localhost:8080/"
        },
        "id": "onrKGOuUBG1w",
        "outputId": "b61c33ac-a668-42d9-d510-4ab07aa3be1e"
      },
      "execution_count": null,
      "outputs": [
        {
          "output_type": "stream",
          "name": "stdout",
          "text": [
            "                                          image_path\n",
            "0  TCGA-A6-2671-01Z-00-DX1.13d1a0d9-78cd-4cfc-b67...\n",
            "1  TCGA-A6-2671-01Z-00-DX1.13d1a0d9-78cd-4cfc-b67...\n",
            "2  TCGA-A6-2671-01Z-00-DX1.13d1a0d9-78cd-4cfc-b67...\n",
            "3  TCGA-A6-2671-01Z-00-DX1.13d1a0d9-78cd-4cfc-b67...\n",
            "4  TCGA-A6-2671-01Z-00-DX1.13d1a0d9-78cd-4cfc-b67...\n"
          ]
        }
      ]
    },
    {
      "cell_type": "code",
      "source": [
        "import pandas as pd\n",
        "df_subclass = pd.DataFrame(subclass_list)\n",
        "df_subclass.columns = ['CMS_Subtype']\n",
        "print(df_subclass.head())"
      ],
      "metadata": {
        "colab": {
          "base_uri": "https://localhost:8080/"
        },
        "id": "WcFBzs18BlCT",
        "outputId": "236257d8-7009-4230-8d90-6e0007a4ba26"
      },
      "execution_count": null,
      "outputs": [
        {
          "output_type": "stream",
          "name": "stdout",
          "text": [
            "  CMS_Subtype\n",
            "0        CMS4\n",
            "1        CMS4\n",
            "2        CMS4\n",
            "3        CMS4\n",
            "4        CMS4\n"
          ]
        }
      ]
    },
    {
      "cell_type": "code",
      "source": [
        "df_colorectal = pd.concat([df_labeled_imgs, df_subclass], axis=1, sort=False)\n",
        "df_colorectal.head(5)\n",
        "\n",
        "#df_colorectal.to_csv('df_colorectal.csv', index=True)"
      ],
      "metadata": {
        "colab": {
          "base_uri": "https://localhost:8080/",
          "height": 206
        },
        "id": "AfdOeitRCHOP",
        "outputId": "e28286d3-39fd-4132-8b95-2a69a73c226e"
      },
      "execution_count": null,
      "outputs": [
        {
          "output_type": "execute_result",
          "data": {
            "text/plain": [
              "                                          image_path CMS_Subtype\n",
              "0  TCGA-A6-2671-01Z-00-DX1.13d1a0d9-78cd-4cfc-b67...        CMS4\n",
              "1  TCGA-A6-2671-01Z-00-DX1.13d1a0d9-78cd-4cfc-b67...        CMS4\n",
              "2  TCGA-A6-2671-01Z-00-DX1.13d1a0d9-78cd-4cfc-b67...        CMS4\n",
              "3  TCGA-A6-2671-01Z-00-DX1.13d1a0d9-78cd-4cfc-b67...        CMS4\n",
              "4  TCGA-A6-2671-01Z-00-DX1.13d1a0d9-78cd-4cfc-b67...        CMS4"
            ],
            "text/html": [
              "\n",
              "  <div id=\"df-abf47902-5add-4d1b-96bb-add9f468b215\">\n",
              "    <div class=\"colab-df-container\">\n",
              "      <div>\n",
              "<style scoped>\n",
              "    .dataframe tbody tr th:only-of-type {\n",
              "        vertical-align: middle;\n",
              "    }\n",
              "\n",
              "    .dataframe tbody tr th {\n",
              "        vertical-align: top;\n",
              "    }\n",
              "\n",
              "    .dataframe thead th {\n",
              "        text-align: right;\n",
              "    }\n",
              "</style>\n",
              "<table border=\"1\" class=\"dataframe\">\n",
              "  <thead>\n",
              "    <tr style=\"text-align: right;\">\n",
              "      <th></th>\n",
              "      <th>image_path</th>\n",
              "      <th>CMS_Subtype</th>\n",
              "    </tr>\n",
              "  </thead>\n",
              "  <tbody>\n",
              "    <tr>\n",
              "      <th>0</th>\n",
              "      <td>TCGA-A6-2671-01Z-00-DX1.13d1a0d9-78cd-4cfc-b67...</td>\n",
              "      <td>CMS4</td>\n",
              "    </tr>\n",
              "    <tr>\n",
              "      <th>1</th>\n",
              "      <td>TCGA-A6-2671-01Z-00-DX1.13d1a0d9-78cd-4cfc-b67...</td>\n",
              "      <td>CMS4</td>\n",
              "    </tr>\n",
              "    <tr>\n",
              "      <th>2</th>\n",
              "      <td>TCGA-A6-2671-01Z-00-DX1.13d1a0d9-78cd-4cfc-b67...</td>\n",
              "      <td>CMS4</td>\n",
              "    </tr>\n",
              "    <tr>\n",
              "      <th>3</th>\n",
              "      <td>TCGA-A6-2671-01Z-00-DX1.13d1a0d9-78cd-4cfc-b67...</td>\n",
              "      <td>CMS4</td>\n",
              "    </tr>\n",
              "    <tr>\n",
              "      <th>4</th>\n",
              "      <td>TCGA-A6-2671-01Z-00-DX1.13d1a0d9-78cd-4cfc-b67...</td>\n",
              "      <td>CMS4</td>\n",
              "    </tr>\n",
              "  </tbody>\n",
              "</table>\n",
              "</div>\n",
              "      <button class=\"colab-df-convert\" onclick=\"convertToInteractive('df-abf47902-5add-4d1b-96bb-add9f468b215')\"\n",
              "              title=\"Convert this dataframe to an interactive table.\"\n",
              "              style=\"display:none;\">\n",
              "        \n",
              "  <svg xmlns=\"http://www.w3.org/2000/svg\" height=\"24px\"viewBox=\"0 0 24 24\"\n",
              "       width=\"24px\">\n",
              "    <path d=\"M0 0h24v24H0V0z\" fill=\"none\"/>\n",
              "    <path d=\"M18.56 5.44l.94 2.06.94-2.06 2.06-.94-2.06-.94-.94-2.06-.94 2.06-2.06.94zm-11 1L8.5 8.5l.94-2.06 2.06-.94-2.06-.94L8.5 2.5l-.94 2.06-2.06.94zm10 10l.94 2.06.94-2.06 2.06-.94-2.06-.94-.94-2.06-.94 2.06-2.06.94z\"/><path d=\"M17.41 7.96l-1.37-1.37c-.4-.4-.92-.59-1.43-.59-.52 0-1.04.2-1.43.59L10.3 9.45l-7.72 7.72c-.78.78-.78 2.05 0 2.83L4 21.41c.39.39.9.59 1.41.59.51 0 1.02-.2 1.41-.59l7.78-7.78 2.81-2.81c.8-.78.8-2.07 0-2.86zM5.41 20L4 18.59l7.72-7.72 1.47 1.35L5.41 20z\"/>\n",
              "  </svg>\n",
              "      </button>\n",
              "      \n",
              "  <style>\n",
              "    .colab-df-container {\n",
              "      display:flex;\n",
              "      flex-wrap:wrap;\n",
              "      gap: 12px;\n",
              "    }\n",
              "\n",
              "    .colab-df-convert {\n",
              "      background-color: #E8F0FE;\n",
              "      border: none;\n",
              "      border-radius: 50%;\n",
              "      cursor: pointer;\n",
              "      display: none;\n",
              "      fill: #1967D2;\n",
              "      height: 32px;\n",
              "      padding: 0 0 0 0;\n",
              "      width: 32px;\n",
              "    }\n",
              "\n",
              "    .colab-df-convert:hover {\n",
              "      background-color: #E2EBFA;\n",
              "      box-shadow: 0px 1px 2px rgba(60, 64, 67, 0.3), 0px 1px 3px 1px rgba(60, 64, 67, 0.15);\n",
              "      fill: #174EA6;\n",
              "    }\n",
              "\n",
              "    [theme=dark] .colab-df-convert {\n",
              "      background-color: #3B4455;\n",
              "      fill: #D2E3FC;\n",
              "    }\n",
              "\n",
              "    [theme=dark] .colab-df-convert:hover {\n",
              "      background-color: #434B5C;\n",
              "      box-shadow: 0px 1px 3px 1px rgba(0, 0, 0, 0.15);\n",
              "      filter: drop-shadow(0px 1px 2px rgba(0, 0, 0, 0.3));\n",
              "      fill: #FFFFFF;\n",
              "    }\n",
              "  </style>\n",
              "\n",
              "      <script>\n",
              "        const buttonEl =\n",
              "          document.querySelector('#df-abf47902-5add-4d1b-96bb-add9f468b215 button.colab-df-convert');\n",
              "        buttonEl.style.display =\n",
              "          google.colab.kernel.accessAllowed ? 'block' : 'none';\n",
              "\n",
              "        async function convertToInteractive(key) {\n",
              "          const element = document.querySelector('#df-abf47902-5add-4d1b-96bb-add9f468b215');\n",
              "          const dataTable =\n",
              "            await google.colab.kernel.invokeFunction('convertToInteractive',\n",
              "                                                     [key], {});\n",
              "          if (!dataTable) return;\n",
              "\n",
              "          const docLinkHtml = 'Like what you see? Visit the ' +\n",
              "            '<a target=\"_blank\" href=https://colab.research.google.com/notebooks/data_table.ipynb>data table notebook</a>'\n",
              "            + ' to learn more about interactive tables.';\n",
              "          element.innerHTML = '';\n",
              "          dataTable['output_type'] = 'display_data';\n",
              "          await google.colab.output.renderOutput(dataTable, element);\n",
              "          const docLink = document.createElement('div');\n",
              "          docLink.innerHTML = docLinkHtml;\n",
              "          element.appendChild(docLink);\n",
              "        }\n",
              "      </script>\n",
              "    </div>\n",
              "  </div>\n",
              "  "
            ]
          },
          "metadata": {},
          "execution_count": 53
        }
      ]
    },
    {
      "cell_type": "code",
      "source": [
        "len(df_colorectal) # 126747"
      ],
      "metadata": {
        "colab": {
          "base_uri": "https://localhost:8080/"
        },
        "id": "TGfCFn-QGDd7",
        "outputId": "1bb0cdc1-cc67-4bcd-8306-d7a6d2c56b75"
      },
      "execution_count": null,
      "outputs": [
        {
          "output_type": "execute_result",
          "data": {
            "text/plain": [
              "126747"
            ]
          },
          "metadata": {},
          "execution_count": 55
        }
      ]
    }
  ]
}